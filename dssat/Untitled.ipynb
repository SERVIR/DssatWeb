{
 "cells": [
  {
   "cell_type": "code",
   "execution_count": 1,
   "id": "b059cb93-e2e1-4566-b8f4-d68cb31d7510",
   "metadata": {},
   "source": [
    "import database"
   ],
   "outputs": []
  },
  {
   "cell_type": "code",
   "execution_count": 2,
   "id": "2b7d3171-7b5c-4df9-a21c-7edae8c0dee6",
   "metadata": {},
   "source": [
    "from dssat import run_spatial_dssat\n",
    "from datetime import datetime"
   ],
   "outputs": []
  },
  {
   "cell_type": "code",
   "execution_count": 3,
   "id": "09d10d03-c2a5-4418-b5ab-723f8c913da0",
   "metadata": {},
   "source": [
    "from api import run_spatial_dssat\n",
    "from datetime import datetime"
   ],
   "outputs": []
  },
  {
   "cell_type": "code",
   "execution_count": null,
   "id": "51f65296-84d8-42f1-a1f2-2413351ce9cf",
   "metadata": {},
   "source": [],
   "outputs": []
  }
 ],
 "metadata": {
  "kernelspec": {
   "display_name": "Python 3 (ipykernel)",
   "language": "python",
   "name": "python3"
  },
  "language_info": {
   "codemirror_mode": {
    "name": "ipython",
    "version": 3
   },
   "file_extension": ".py",
   "mimetype": "text/x-python",
   "name": "python",
   "nbconvert_exporter": "python",
   "pygments_lexer": "ipython3",
   "version": "3.11.7"
  }
 },
 "nbformat": 4,
 "nbformat_minor": 5
}
